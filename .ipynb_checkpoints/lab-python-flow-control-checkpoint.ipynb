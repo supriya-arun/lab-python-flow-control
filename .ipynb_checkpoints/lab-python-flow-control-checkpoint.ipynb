{
 "cells": [
  {
   "cell_type": "markdown",
   "id": "d3bfc191-8885-42ee-b0a0-bbab867c6f9f",
   "metadata": {
    "tags": []
   },
   "source": [
    "# Lab | Flow Control"
   ]
  },
  {
   "cell_type": "markdown",
   "id": "3851fcd1-cf98-4653-9c89-e003b7ec9400",
   "metadata": {},
   "source": [
    "## Exercise: Managing Customer Orders Optimized\n",
    "\n",
    "In the last lab, you were starting an online store that sells various products. To ensure smooth operations, you developed a program that manages customer orders and inventory.\n",
    "\n",
    "You did so without using flow control. Let's go a step further and improve this code.\n",
    "\n",
    "Follow the steps below to complete the exercise:\n",
    "\n",
    "1. Look at your code from the lab data structures, and improve repeated code with loops.\n",
    "\n",
    "2. Instead of asking the user to input the name of three products that a customer wants to order, do the following:\n",
    "    \n",
    "    a. Prompt the user to enter the name of a product that a customer wants to order.\n",
    "    \n",
    "    b. Add the product name to the \"customer_orders\" set.\n",
    "    \n",
    "    c. Ask the user if they want to add another product (yes/no).\n",
    "    \n",
    "    d. Continue the loop until the user does not want to add another product.\n",
    "\n",
    "3. Instead of updating the inventory by subtracting 1 from the quantity of each product, only do it for  the products that were ordered (those in \"customer_orders\")."
   ]
  },
  {
   "cell_type": "code",
   "execution_count": 9,
   "id": "e992cce1-ef82-45b3-a129-4de61d841d0f",
   "metadata": {},
   "outputs": [
    {
     "name": "stdout",
     "output_type": "stream",
     "text": [
      "{'t-shirt': 10, 'mug': 10, 'hat': 10, 'book': 10, 'keychain': 10}\n"
     ]
    }
   ],
   "source": [
    "#Define a list called products that contains the following items: \"t-shirt\", \"mug\", \"hat\", \"book\", \"keychain\".\n",
    "products = [ \"t-shirt\", \"mug\", \"hat\", \"book\", \"keychain\"]\n",
    "\n",
    "#Create an empty dictionary called inventory.\n",
    "inventory= {}\n",
    "\n",
    "for product in products:\n",
    "    inventory[product] = 10\n",
    "print(inventory)"
   ]
  },
  {
   "cell_type": "code",
   "execution_count": 11,
   "id": "84d22ba9-4145-4d4d-ad53-935bfeb97265",
   "metadata": {},
   "outputs": [
    {
     "name": "stdin",
     "output_type": "stream",
     "text": [
      "Enter the name of the product you want to order (from 't-shirt', 'mug', 'hat', 'book', 'keychain'):  mug\n"
     ]
    },
    {
     "name": "stdout",
     "output_type": "stream",
     "text": [
      "Mug added to your order.\n"
     ]
    },
    {
     "name": "stdin",
     "output_type": "stream",
     "text": [
      "Do you want to order another product? (yes/no):  yes\n",
      "Enter the name of the product you want to order (from 't-shirt', 'mug', 'hat', 'book', 'keychain'):  book\n"
     ]
    },
    {
     "name": "stdout",
     "output_type": "stream",
     "text": [
      "Book added to your order.\n"
     ]
    },
    {
     "name": "stdin",
     "output_type": "stream",
     "text": [
      "Do you want to order another product? (yes/no):  yes\n",
      "Enter the name of the product you want to order (from 't-shirt', 'mug', 'hat', 'book', 'keychain'):  hat\n"
     ]
    },
    {
     "name": "stdout",
     "output_type": "stream",
     "text": [
      "Hat added to your order.\n"
     ]
    },
    {
     "name": "stdin",
     "output_type": "stream",
     "text": [
      "Do you want to order another product? (yes/no):  no\n"
     ]
    },
    {
     "name": "stdout",
     "output_type": "stream",
     "text": [
      "Thank you for shopping!\n",
      "Customer Orders: {'book', 'hat', 'mug'}\n"
     ]
    }
   ],
   "source": [
    "# Define the available products\n",
    "products = [\"t-shirt\", \"mug\", \"hat\", \"book\", \"keychain\"]\n",
    "\n",
    "# Create an empty set to store customer orders\n",
    "customer_orders = set()\n",
    "\n",
    "# Function to add a product to customer orders\n",
    "def add_product():\n",
    "    while True:\n",
    "        product = input(\"Enter the name of the product you want to order (from 't-shirt', 'mug', 'hat', 'book', 'keychain'): \").strip().lower()\n",
    "        if product in products:\n",
    "            customer_orders.add(product)\n",
    "            print(f\"{product.capitalize()} added to your order.\")\n",
    "        else:\n",
    "            print(f\"Sorry, {product.capitalize()} is not available.\")\n",
    "\n",
    "        # Ask the user if they want to add another product\n",
    "        response = input(\"Do you want to order another product? (yes/no): \").strip().lower()\n",
    "\n",
    "        if response != 'yes':\n",
    "            break\n",
    "\n",
    "# Call the function to start ordering\n",
    "add_product()\n",
    "\n",
    "# Display the final customer orders\n",
    "print(\"Thank you for shopping!\")\n",
    "print(\"Customer Orders:\", customer_orders)"
   ]
  },
  {
   "cell_type": "code",
   "execution_count": 13,
   "id": "588342ab-8319-4229-8d23-93d3edc7a478",
   "metadata": {},
   "outputs": [
    {
     "name": "stdout",
     "output_type": "stream",
     "text": [
      "\n",
      "Updated Inventory:\n",
      "t-shirt: 10 left\n",
      "mug: 9 left\n",
      "hat: 9 left\n",
      "book: 9 left\n",
      "keychain: 10 left\n"
     ]
    }
   ],
   "source": [
    "for product in customer_orders:\n",
    "    if inventory[product] > 0:\n",
    "        inventory[product] -= 1\n",
    "#Print the updated inventory, displaying the quantity of each product on separate lines.\n",
    "print(\"\\nUpdated Inventory:\")\n",
    "for product, quantity in inventory.items():\n",
    "    print(f\"{product}: {quantity} left\")"
   ]
  },
  {
   "cell_type": "code",
   "execution_count": null,
   "id": "e36482ed-fc30-435a-97c0-85eb51871483",
   "metadata": {},
   "outputs": [],
   "source": []
  }
 ],
 "metadata": {
  "kernelspec": {
   "display_name": "Python 3 (ipykernel)",
   "language": "python",
   "name": "python3"
  },
  "language_info": {
   "codemirror_mode": {
    "name": "ipython",
    "version": 3
   },
   "file_extension": ".py",
   "mimetype": "text/x-python",
   "name": "python",
   "nbconvert_exporter": "python",
   "pygments_lexer": "ipython3",
   "version": "3.12.4"
  }
 },
 "nbformat": 4,
 "nbformat_minor": 5
}
